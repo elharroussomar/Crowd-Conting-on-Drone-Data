{
 "cells": [
  {
   "cell_type": "code",
   "execution_count": null,
   "metadata": {
    "executionInfo": {
     "elapsed": 13037,
     "status": "ok",
     "timestamp": 1606941762235,
     "user": {
      "displayName": "omar elharrouss",
      "photoUrl": "https://lh3.googleusercontent.com/a-/AOh14GjeGC_l4X-u1jl7ka6nlFmF9bP8pq1h8yOVXg_Wvg=s64",
      "userId": "07323381654864768298"
     },
     "user_tz": -180
    },
    "id": "Fp5EzdUvUDap"
   },
   "outputs": [],
   "source": [
    "#!pip3 install imageai --upgrade"
   ]
  },
  {
   "cell_type": "code",
   "execution_count": null,
   "metadata": {
    "colab": {
     "base_uri": "https://localhost:8080/"
    },
    "executionInfo": {
     "elapsed": 13030,
     "status": "ok",
     "timestamp": 1606941762236,
     "user": {
      "displayName": "omar elharrouss",
      "photoUrl": "https://lh3.googleusercontent.com/a-/AOh14GjeGC_l4X-u1jl7ka6nlFmF9bP8pq1h8yOVXg_Wvg=s64",
      "userId": "07323381654864768298"
     },
     "user_tz": -180
    },
    "id": "FSUbmrwYUJTM",
    "outputId": "ddba8a70-6473-4bb8-be9c-f8073b7f9711"
   },
   "outputs": [],
   "source": [
    "import numpy as np # linear algebra\n",
    "import pandas as pd # data processing, CSV file I/O (e.g. pd.read_csv)\n",
    "import os\n",
    "# Input data files are available in the \"../input/\" directory.\n",
    "# For example, running this (by clicking run or pressing Shift+Enter) will list the files in the input directory\n",
    "\n",
    "print(os.listdir(\"./FSC/aa_final/train/\"))\n",
    "# Any results you write to the current directory are saved as output."
   ]
  },
  {
   "cell_type": "code",
   "execution_count": null,
   "metadata": {
    "colab": {
     "base_uri": "https://localhost:8080/"
    },
    "executionInfo": {
     "elapsed": 13019,
     "status": "ok",
     "timestamp": 1606941762236,
     "user": {
      "displayName": "omar elharrouss",
      "photoUrl": "https://lh3.googleusercontent.com/a-/AOh14GjeGC_l4X-u1jl7ka6nlFmF9bP8pq1h8yOVXg_Wvg=s64",
      "userId": "07323381654864768298"
     },
     "user_tz": -180
    },
    "id": "iMiEEegeUNeR",
    "outputId": "7e940e52-ddfd-46dd-fcf1-1afb2cc85fd7"
   },
   "outputs": [],
   "source": []
  },
  {
   "cell_type": "code",
   "execution_count": null,
   "metadata": {
    "executionInfo": {
     "elapsed": 13012,
     "status": "ok",
     "timestamp": 1606941762237,
     "user": {
      "displayName": "omar elharrouss",
      "photoUrl": "https://lh3.googleusercontent.com/a-/AOh14GjeGC_l4X-u1jl7ka6nlFmF9bP8pq1h8yOVXg_Wvg=s64",
      "userId": "07323381654864768298"
     },
     "user_tz": -180
    },
    "id": "Duw_HqqUUOMU"
   },
   "outputs": [],
   "source": [
    "DATA_PATH = \"./FSC/aa_final/train/\"\n"
   ]
  },
  {
   "cell_type": "code",
   "execution_count": null,
   "metadata": {
    "executionInfo": {
     "elapsed": 13005,
     "status": "ok",
     "timestamp": 1606941762237,
     "user": {
      "displayName": "omar elharrouss",
      "photoUrl": "https://lh3.googleusercontent.com/a-/AOh14GjeGC_l4X-u1jl7ka6nlFmF9bP8pq1h8yOVXg_Wvg=s64",
      "userId": "07323381654864768298"
     },
     "user_tz": -180
    },
    "id": "G8geK_7vUP6e"
   },
   "outputs": [],
   "source": [
    "PRETRAINED_MODEL = None"
   ]
  },
  {
   "cell_type": "code",
   "execution_count": null,
   "metadata": {
    "executionInfo": {
     "elapsed": 13001,
     "status": "ok",
     "timestamp": 1606941762238,
     "user": {
      "displayName": "omar elharrouss",
      "photoUrl": "https://lh3.googleusercontent.com/a-/AOh14GjeGC_l4X-u1jl7ka6nlFmF9bP8pq1h8yOVXg_Wvg=s64",
      "userId": "07323381654864768298"
     },
     "user_tz": -180
    },
    "id": "Fu7ORXSlUSBE"
   },
   "outputs": [],
   "source": [
    "import h5py\n",
    "import torch\n",
    "import shutil\n",
    "\n",
    "def save_net(fname, net):\n",
    "    with h5py.File(fname, 'w') as h5f:\n",
    "        for k, v in net.state_dict().items():\n",
    "            h5f.create_dataset(k, data=v.cpu().numpy())\n",
    "def load_net(fname, net):\n",
    "    with h5py.File(fname, 'r') as h5f:\n",
    "        for k, v in net.state_dict().items():        \n",
    "            param = torch.from_numpy(np.asarray(h5f[k]))         \n",
    "            v.copy_(param)\n",
    "            \n",
    "def save_checkpoint(state, is_best,task_id, filename='checkpoint.pth.tar'):\n",
    "    torch.save(state, task_id+filename)\n",
    "    if is_best:\n",
    "        shutil.copyfile(task_id+filename, task_id+'model_best.pth.tar')   "
   ]
  },
  {
   "cell_type": "code",
   "execution_count": null,
   "metadata": {
    "executionInfo": {
     "elapsed": 12996,
     "status": "ok",
     "timestamp": 1606941762239,
     "user": {
      "displayName": "omar elharrouss",
      "photoUrl": "https://lh3.googleusercontent.com/a-/AOh14GjeGC_l4X-u1jl7ka6nlFmF9bP8pq1h8yOVXg_Wvg=s64",
      "userId": "07323381654864768298"
     },
     "user_tz": -180
    },
    "id": "zkBe7RmXUUTy"
   },
   "outputs": [],
   "source": [
    "\"\"\"\n",
    "contain dummy args with config\n",
    "helpfull for copy paste Kaggle\n",
    "\"\"\"\n",
    "import argparse\n",
    "\n",
    "\n",
    "def make_args(train_json= \"\", test_json=\"\", pre=\"\", gpu=\"0\", task=\"task_one_\"):\n",
    "    \"\"\"\n",
    "    these arg does not have any required commandline arg (all with default value)\n",
    "    :param train_json:\n",
    "    :param test_json:\n",
    "    :param pre:\n",
    "    :param gpu:\n",
    "    :param task:\n",
    "    :return:\n",
    "    \"\"\"\n",
    "    parser = argparse.ArgumentParser(description='PyTorch CSRNet')\n",
    "\n",
    "    args = parser.parse_args()\n",
    "    args.gpu = gpu\n",
    "    args.task = task\n",
    "    args.pre = None\n",
    "    return args\n",
    "\n",
    "\n",
    "class Meow():\n",
    "    def __init__(self):\n",
    "        pass\n",
    "\n",
    "\n",
    "def make_meow_args(gpu=\"0\", task=\"task_one_\"):\n",
    "    args = Meow()\n",
    "    args.gpu = gpu\n",
    "    args.task = task\n",
    "    args.pre = None\n",
    "    return args"
   ]
  },
  {
   "cell_type": "code",
   "execution_count": null,
   "metadata": {
    "executionInfo": {
     "elapsed": 12990,
     "status": "ok",
     "timestamp": 1606941762239,
     "user": {
      "displayName": "omar elharrouss",
      "photoUrl": "https://lh3.googleusercontent.com/a-/AOh14GjeGC_l4X-u1jl7ka6nlFmF9bP8pq1h8yOVXg_Wvg=s64",
      "userId": "07323381654864768298"
     },
     "user_tz": -180
    },
    "id": "DFAMlVrUUW_P"
   },
   "outputs": [],
   "source": [
    "import os\n",
    "import glob\n",
    "from sklearn.model_selection import train_test_split\n",
    "import json\n",
    "\"\"\"\n",
    "create a list of file (full directory)\n",
    "\"\"\"\n",
    "\n",
    "def create_training_image_list(data_path):\n",
    "    \"\"\"\n",
    "    create a list of absolutely path of jpg file\n",
    "    :param data_path: must contain subfolder \"images\" with *.jpg  (example ShanghaiTech/QNRF/train_data/)\n",
    "    :return:\n",
    "    \"\"\"\n",
    "    DATA_PATH = data_path\n",
    "    image_path_list = glob.glob(os.path.join(DATA_PATH, \"images\", \"*.jpg\"))\n",
    "    return image_path_list\n",
    "\n",
    "def get_train_val_list(data_path):\n",
    "    DATA_PATH = data_path\n",
    "    image_path_list = glob.glob(os.path.join(DATA_PATH, \"images\", \"*.jpg\"))\n",
    "    train, val = train_test_split(image_path_list, test_size=0.2, random_state=113)\n",
    "\n",
    "    print(\"train size \", len(train))\n",
    "    print(\"val size \", len(val))\n",
    "    return train, val"
   ]
  },
  {
   "cell_type": "code",
   "execution_count": null,
   "metadata": {
    "executionInfo": {
     "elapsed": 12986,
     "status": "ok",
     "timestamp": 1606941762240,
     "user": {
      "displayName": "omar elharrouss",
      "photoUrl": "https://lh3.googleusercontent.com/a-/AOh14GjeGC_l4X-u1jl7ka6nlFmF9bP8pq1h8yOVXg_Wvg=s64",
      "userId": "07323381654864768298"
     },
     "user_tz": -180
    },
    "id": "Op2Q6phZUY-s"
   },
   "outputs": [],
   "source": [
    "import random\n",
    "import os\n",
    "from PIL import Image,ImageFilter,ImageDraw\n",
    "import numpy as np\n",
    "import h5py\n",
    "from PIL import ImageStat\n",
    "import cv2\n",
    "\n",
    "def load_data(img_path,train = True):\n",
    "    gt_path = img_path.replace('.jpg','.h5').replace('images','ground-truth')\n",
    "    img = Image.open(img_path).convert('RGB')\n",
    "    gt_file = h5py.File(gt_path, 'r')\n",
    "    target = np.asarray(gt_file['density'])\n",
    "\n",
    "    target = cv2.resize(target,(int(target.shape[1]/8), int(target.shape[0]/8)),interpolation = cv2.INTER_CUBIC)*64\n",
    "    \n",
    "    return img,target"
   ]
  },
  {
   "cell_type": "code",
   "execution_count": null,
   "metadata": {
    "executionInfo": {
     "elapsed": 12981,
     "status": "ok",
     "timestamp": 1606941762240,
     "user": {
      "displayName": "omar elharrouss",
      "photoUrl": "https://lh3.googleusercontent.com/a-/AOh14GjeGC_l4X-u1jl7ka6nlFmF9bP8pq1h8yOVXg_Wvg=s64",
      "userId": "07323381654864768298"
     },
     "user_tz": -180
    },
    "id": "B1cTobUyUa12"
   },
   "outputs": [],
   "source": [
    "import os\n",
    "import random\n",
    "import torch\n",
    "import numpy as np\n",
    "from torch.utils.data import Dataset\n",
    "from PIL import Image\n",
    "import torchvision.transforms.functional as F\n",
    "class ListDataset(Dataset):\n",
    "    def __init__(self, root, shape=None, shuffle=True, transform=None,  train=False, seen=0, batch_size=1, num_workers=4):\n",
    "        \"\"\"\n",
    "        if you have different image size, then batch_size must be 1\n",
    "        :param root:\n",
    "        :param shape:\n",
    "        :param shuffle:\n",
    "        :param transform:\n",
    "        :param train:\n",
    "        :param seen:\n",
    "        :param batch_size:\n",
    "        :param num_workers:\n",
    "        \"\"\"\n",
    "        if train:\n",
    "            root = root *2\n",
    "        if shuffle:\n",
    "            random.shuffle(root)\n",
    "        \n",
    "        self.nSamples = len(root)\n",
    "        self.lines = root\n",
    "        self.transform = transform\n",
    "        self.train = train\n",
    "        self.shape = shape\n",
    "        self.seen = seen\n",
    "        self.batch_size = batch_size\n",
    "        self.num_workers = num_workers\n",
    "        \n",
    "    def __len__(self):\n",
    "        return self.nSamples\n",
    "\n",
    "    def __getitem__(self, index):\n",
    "        assert index <= len(self), 'index range error' \n",
    "        \n",
    "        img_path = self.lines[index]\n",
    "        \n",
    "        img,target = load_data(img_path,self.train)\n",
    "        \n",
    "        #img = 255.0 * F.to_tensor(img)\n",
    "        \n",
    "        #img[0,:,:]=img[0,:,:]-92.8207477031\n",
    "        #img[1,:,:]=img[1,:,:]-95.2757037428\n",
    "        #img[2,:,:]=img[2,:,:]-104.877445883\n",
    "\n",
    "\n",
    "        \n",
    "        \n",
    "        if self.transform is not None:\n",
    "            img = self.transform(img)\n",
    "        return img,target\n",
    "        "
   ]
  },
  {
   "cell_type": "code",
   "execution_count": null,
   "metadata": {
    "executionInfo": {
     "elapsed": 12969,
     "status": "ok",
     "timestamp": 1606941762241,
     "user": {
      "displayName": "omar elharrouss",
      "photoUrl": "https://lh3.googleusercontent.com/a-/AOh14GjeGC_l4X-u1jl7ka6nlFmF9bP8pq1h8yOVXg_Wvg=s64",
      "userId": "07323381654864768298"
     },
     "user_tz": -180
    },
    "id": "o0ouE9V23hqI"
   },
   "outputs": [],
   "source": [
    "import h5py\n",
    "import torch\n",
    "import shutil\n",
    "\n",
    "def save_net(fname, net):\n",
    "    with h5py.File(fname, 'w') as h5f:\n",
    "        for k, v in net.state_dict().items():\n",
    "            h5f.create_dataset(k, data=v.cpu().numpy())\n",
    "def load_net(fname, net):\n",
    "    with h5py.File('./'+fname, 'r') as h5f:\n",
    "        for k, v in net.state_dict().items():        \n",
    "            param = torch.from_numpy(np.asarray(h5f[k]))         \n",
    "            v.copy_(param)\n",
    "            \n",
    "def save_checkpoint(state, is_best,task_id, filename='checkpoint.pth.tar'):\n",
    "    torch.save(state, './'+task_id+filename)\n",
    "    if is_best:\n",
    "        shutil.copyfile('./'+task_id+filename, './'+task_id+'model_best.pth.tar')            \n",
    "\n",
    "def tv_loss(y):\n",
    "    loss = torch.sum((y[:-1, :, :, :] - y[1:, :, :, :])**2) + torch.sum((y[:, :-1, :, :] - y[:, 1:, :, :])**2)\n",
    "    return loss\n"
   ]
  },
  {
   "cell_type": "code",
   "execution_count": null,
   "metadata": {
    "executionInfo": {
     "elapsed": 12954,
     "status": "ok",
     "timestamp": 1606941762243,
     "user": {
      "displayName": "omar elharrouss",
      "photoUrl": "https://lh3.googleusercontent.com/a-/AOh14GjeGC_l4X-u1jl7ka6nlFmF9bP8pq1h8yOVXg_Wvg=s64",
      "userId": "07323381654864768298"
     },
     "user_tz": -180
    },
    "id": "kl0atcISZSLr"
   },
   "outputs": [],
   "source": [
    "\"\"\"\n",
    "Student model (1/n-CSRNet) in SKT.\n",
    "\"\"\"\n",
    "import torch.nn as nn\n",
    "import torch\n",
    "from torchvision import models\n",
    "\n",
    "channel_nums = [[32, 64, 128, 256],  # half\n",
    "                [21, 43, 85, 171],  # third\n",
    "                [16, 32, 64, 128],  # quarter\n",
    "                [13, 26, 51, 102],  # fifth\n",
    "                ]\n",
    "\n",
    "\n",
    "class SKT(nn.Module):\n",
    "    def __init__(self, ratio=4, transform=True):\n",
    "        super(SKT, self).__init__()\n",
    "        self.seen = 0\n",
    "        self.transform = transform\n",
    "        channel = channel_nums[ratio-2]\n",
    "        self.conv0_0 = conv_layers(3, channel[0])\n",
    "        if self.transform:\n",
    "            self.transform0_0 = feature_transform(channel[0], 64)\n",
    "        self.conv0_1 = conv_layers(channel[0], channel[0])\n",
    "\n",
    "        self.pool0 = pool_layers()\n",
    "        if transform:\n",
    "            self.transform1_0 = feature_transform(channel[0], 64)\n",
    "        self.conv1_0 = conv_layers(channel[0], channel[1])\n",
    "        self.conv1_1 = conv_layers(channel[1], channel[1])\n",
    "\n",
    "        self.pool1 = pool_layers()\n",
    "        if transform:\n",
    "            self.transform2_0 = feature_transform(channel[1], 128)\n",
    "        self.conv2_0 = conv_layers(channel[1], channel[2])\n",
    "        self.conv2_1 = conv_layers(channel[2], channel[2])\n",
    "        self.conv2_2 = conv_layers(channel[2], channel[2])\n",
    "\n",
    "        self.pool2 = pool_layers()\n",
    "        if transform:\n",
    "            self.transform3_0 = feature_transform(channel[2], 256)\n",
    "        self.conv3_0 = conv_layers(channel[2], channel[3])\n",
    "        self.conv3_1 = conv_layers(channel[3], channel[3])\n",
    "        self.conv3_2 = conv_layers(channel[3], channel[3])\n",
    "\n",
    "        self.conv4_0 = conv_layers(channel[3], channel[3], dilation=2)\n",
    "        #if transform:\n",
    "        #    self.transform4_0 = feature_transform(channel[3], 512)\n",
    "        #self.conv4_1 = conv_layers(channel[3], channel[3], dilation=2)\n",
    "        #self.conv4_2 = conv_layers(channel[3], channel[3], dilation=2)\n",
    "        #self.conv4_3 = conv_layers(channel[3], channel[2], dilation=2)\n",
    "        #if transform:\n",
    "        #    self.transform4_3 = feature_transform(channel[2], 256)\n",
    "        #self.conv4_4 = conv_layers(channel[2], channel[1], dilation=2)\n",
    "        #self.conv4_5 = conv_layers(channel[1], channel[0], dilation=2)\n",
    "\n",
    "        #self.conv5_0 = nn.Conv2d(channel[0], 1, kernel_size=1)\n",
    "\n",
    "        self._initialize_weights()\n",
    "        self.features = []\n",
    "\n",
    "    def forward(self, x):\n",
    "        self.features = []\n",
    "\n",
    "        x = self.conv0_0(x)\n",
    "        if self.transform:\n",
    "            self.features.append(self.transform0_0(x))\n",
    "        x = self.conv0_1(x)\n",
    "\n",
    "        x = self.pool0(x)\n",
    "        if self.transform:\n",
    "            self.features.append(self.transform1_0(x))\n",
    "        x = self.conv1_0(x)\n",
    "        x = self.conv1_1(x)\n",
    "\n",
    "        x = self.pool1(x)\n",
    "        if self.transform:\n",
    "            self.features.append(self.transform2_0(x))\n",
    "        x = self.conv2_0(x)\n",
    "        x = self.conv2_1(x)\n",
    "        x = self.conv2_2(x)\n",
    "\n",
    "        x = self.pool2(x)\n",
    "        if self.transform:\n",
    "            self.features.append(self.transform3_0(x))\n",
    "        x = self.conv3_0(x)\n",
    "        x = self.conv3_1(x)\n",
    "        x = self.conv3_2(x)\n",
    "\n",
    "        x = self.conv4_0(x)\n",
    "        #if self.transform:\n",
    "        #    self.features.append(self.transform4_0(x))\n",
    "        #x = self.conv4_1(x)\n",
    "        #x = self.conv4_2(x)\n",
    "        #x = self.conv4_3(x)\n",
    "        #if self.transform:\n",
    "        #    self.features.append(self.transform4_3(x))\n",
    "        #x = self.conv4_4(x)\n",
    "        #x = self.conv4_5(x)\n",
    "\n",
    "        #x = self.conv5_0(x)\n",
    "\n",
    "        #self.features.append(x)\n",
    "        #print('x3 :', x.size())\n",
    "        #x = torch.nn.Upsample(size=(67, 120), mode='bilinear')(x)\n",
    "        #print('x3 :', x.size())\n",
    "        #if self.training is True:\n",
    "        #    return self.features\n",
    "        return x\n",
    "\n",
    "    def _initialize_weights(self):\n",
    "        for m in self.modules():\n",
    "            if isinstance(m, nn.Conv2d):\n",
    "                # nn.init.xavier_normal_(m.weight)\n",
    "                nn.init.kaiming_normal_(m.weight, mode='fan_out', nonlinearity='relu')\n",
    "                # nn.init.normal_(m.weight, std=0.01)\n",
    "                if m.bias is not None:\n",
    "                    nn.init.constant_(m.bias, 0)\n",
    "            elif isinstance(m, nn.BatchNorm2d):\n",
    "                nn.init.constant_(m.weight, 1)\n",
    "                nn.init.constant_(m.bias, 0)\n",
    "\n",
    "\n",
    "def conv_layers(inp, oup, dilation=False):\n",
    "    if dilation:\n",
    "        d_rate = 2\n",
    "    else:\n",
    "        d_rate = 1\n",
    "    return nn.Sequential(\n",
    "        nn.Conv2d(inp, oup, kernel_size=3, padding=d_rate, dilation=d_rate),\n",
    "        nn.ReLU(inplace=True)\n",
    "    )\n",
    "\n",
    "\n",
    "def feature_transform(inp, oup):\n",
    "    conv2d = nn.Conv2d(inp, oup, kernel_size=1)  # no padding\n",
    "    relu = nn.ReLU(inplace=True)\n",
    "    layers = []\n",
    "    layers += [conv2d, relu]\n",
    "    return nn.Sequential(*layers)\n",
    "\n",
    "\n",
    "def pool_layers(ceil_mode=True):\n",
    "    return nn.MaxPool2d(kernel_size=2, stride=2, ceil_mode=ceil_mode)\n",
    "\n",
    "        \n",
    "\n"
   ]
  },
  {
   "cell_type": "code",
   "execution_count": null,
   "metadata": {},
   "outputs": [],
   "source": [
    "'''\n",
    "spn = SKT()\n",
    "print(spn)\n",
    "\n",
    "model = SKT()\n",
    "x = torch.randn(1, 3, 768, 1024)\n",
    "\n",
    "# Let's print it\n",
    "model(x)\n",
    "'''"
   ]
  },
  {
   "cell_type": "code",
   "execution_count": null,
   "metadata": {
    "colab": {
     "base_uri": "https://localhost:8080/"
    },
    "executionInfo": {
     "elapsed": 21932735,
     "status": "ok",
     "timestamp": 1606963682082,
     "user": {
      "displayName": "omar elharrouss",
      "photoUrl": "https://lh3.googleusercontent.com/a-/AOh14GjeGC_l4X-u1jl7ka6nlFmF9bP8pq1h8yOVXg_Wvg=s64",
      "userId": "07323381654864768298"
     },
     "user_tz": -180
    },
    "id": "cqxtOhfcUqco",
    "outputId": "2bc03bb2-19e4-4585-bec7-484674f9f459"
   },
   "outputs": [],
   "source": [
    "import sys\n",
    "import os\n",
    "import math\n",
    "import warnings\n",
    "\n",
    "# import from library\n",
    "import torch\n",
    "import torch.nn as nn\n",
    "from torch.autograd import Variable\n",
    "from torchvision import datasets, transforms\n",
    "import numpy as np\n",
    "import argparse\n",
    "import json\n",
    "import cv2\n",
    "import time\n",
    "\n",
    "\"\"\"\n",
    "A dublicate of train.py \n",
    "However it does not need commandline arg\n",
    "\"\"\"\n",
    "def main():\n",
    "    global args, best_prec1\n",
    "    args = make_meow_args()\n",
    "\n",
    "\n",
    "    best_prec1 = 1e6\n",
    "\n",
    "    args.original_lr = 1e-7\n",
    "    args.lr = 1e-7\n",
    "    args.batch_size = 1\n",
    "    args.momentum = 0.95\n",
    "    args.decay = 5 * 1e-4\n",
    "    args.start_epoch = 0\n",
    "    args.epochs = 50\n",
    "    args.steps = [-1, 1, 100, 150]\n",
    "    args.scales = [1, 1, 1, 1]\n",
    "    args.workers = 4\n",
    "    args.seed = time.time()\n",
    "    args.print_freq = 30\n",
    "    args.pre = PRETRAINED_MODEL\n",
    "\n",
    "    os.environ['CUDA_VISIBLE_DEVICES'] = args.gpu\n",
    "    torch.cuda.manual_seed(args.seed)\n",
    "\n",
    "    train_list, val_list = get_train_val_list(DATA_PATH)\n",
    "\n",
    "    model = SKT()\n",
    "\n",
    "    model = model.cuda()\n",
    "\n",
    "    criterion = nn.MSELoss(size_average=False).cuda()\n",
    "\n",
    "    optimizer = torch.optim.SGD(model.parameters(), args.lr,\n",
    "                                momentum=args.momentum,\n",
    "                                weight_decay=args.decay)\n",
    "\n",
    "    if args.pre:\n",
    "        if os.path.isfile(args.pre):\n",
    "            print(\"=> loading checkpoint '{}'\".format(args.pre))\n",
    "            checkpoint = torch.load(args.pre)\n",
    "            args.start_epoch = checkpoint['epoch']\n",
    "            best_prec1 = checkpoint['best_prec1']\n",
    "            model.load_state_dict(checkpoint['state_dict'])\n",
    "            optimizer.load_state_dict(checkpoint['optimizer'])\n",
    "            print(\"=> loaded checkpoint '{}' (epoch {})\"\n",
    "                  .format(args.pre, checkpoint['epoch']))\n",
    "        else:\n",
    "            print(\"=> no checkpoint found at '{}'\".format(args.pre))\n",
    "\n",
    "    for epoch in range(args.start_epoch, args.epochs):\n",
    "        adjust_learning_rate(optimizer, epoch)\n",
    "\n",
    "        train(train_list, model, criterion, optimizer, epoch)\n",
    "        prec1 = validate(val_list, model, criterion)\n",
    "        is_best = prec1 < best_prec1\n",
    "        best_prec1 = min(prec1, best_prec1)\n",
    "        print(' * best MAE {mae:.3f} '\n",
    "              .format(mae=best_prec1))\n",
    "        save_checkpoint({\n",
    "            'epoch': epoch + 1,\n",
    "            'arch': args.pre,\n",
    "            'state_dict': model.state_dict(),\n",
    "            'best_prec1': best_prec1,\n",
    "            'optimizer': optimizer.state_dict(),\n",
    "        }, is_best, args.task)\n",
    "\n",
    "\n",
    "def train(train_list, model, criterion, optimizer, epoch):\n",
    "    losses = AverageMeter()\n",
    "    batch_time = AverageMeter()\n",
    "    data_time = AverageMeter()\n",
    "    train_loader = torch.utils.data.DataLoader(\n",
    "        ListDataset(train_list,\n",
    "                            shuffle=True,\n",
    "                            transform=transforms.Compose([\n",
    "                                transforms.ToTensor(), transforms.Normalize(mean=[0.485, 0.456, 0.406],\n",
    "                                                                            std=[0.229, 0.224, 0.225]),\n",
    "                            ]),\n",
    "                            train=True,\n",
    "                            seen=model.seen,\n",
    "                            batch_size=args.batch_size,\n",
    "                            num_workers=args.workers),\n",
    "        batch_size=args.batch_size)\n",
    "    print('epoch %d, processed %d samples, lr %.10f' % (epoch, epoch * len(train_loader.dataset), args.lr))\n",
    "\n",
    "    model.train()\n",
    "    end = time.time()\n",
    "\n",
    "    for i, (img, target) in enumerate(train_loader):\n",
    "        data_time.update(time.time() - end)\n",
    "\n",
    "        img = img.cuda()\n",
    "        img = Variable(img)\n",
    "        output = model(img)\n",
    "\n",
    "        target = target.type(torch.FloatTensor).unsqueeze(0).cuda()\n",
    "        target = Variable(target)\n",
    "        \n",
    "        #print('out ', output.size(),' tar ',target.size())\n",
    "        #target.reshape([1, 1, 34, 120]) #out[1, 1, 34, 120])#tar[1, 1, 67, 120]\n",
    "        loss = criterion(output, target)\n",
    "\n",
    "        losses.update(loss.item(), img.size(0))\n",
    "        optimizer.zero_grad()\n",
    "        loss.backward()\n",
    "        optimizer.step()\n",
    "\n",
    "        batch_time.update(time.time() - end)\n",
    "        end = time.time()\n",
    "\n",
    "        if i % args.print_freq == 0:\n",
    "            print('Epoch: [{0}][{1}/{2}]\\t'\n",
    "                  'Time {batch_time.val:.3f} ({batch_time.avg:.3f})\\t'\n",
    "                  'Data {data_time.val:.3f} ({data_time.avg:.3f})\\t'\n",
    "                  'Loss {loss.val:.4f} ({loss.avg:.4f})\\t'\n",
    "                .format(\n",
    "                epoch, i, len(train_loader), batch_time=batch_time,\n",
    "                data_time=data_time, loss=losses))\n",
    "\n",
    "\n",
    "def validate(val_list, model, criterion):\n",
    "    print('begin test')\n",
    "    test_loader = torch.utils.data.DataLoader(\n",
    "        ListDataset(val_list,\n",
    "                            shuffle=False,\n",
    "                            transform=transforms.Compose([\n",
    "                                transforms.ToTensor(), transforms.Normalize(mean=[0.485, 0.456, 0.406],\n",
    "                                                                            std=[0.229, 0.224, 0.225]),\n",
    "                            ]), train=False),\n",
    "        batch_size=args.batch_size)\n",
    "\n",
    "    model.eval()\n",
    "\n",
    "    mae = 0\n",
    "    mse = 0\n",
    "    for i, (img, target) in enumerate(test_loader):\n",
    "        img = img.cuda()\n",
    "        img = Variable(img)\n",
    "        output = model(img)\n",
    "\n",
    "        mae += abs(output.data.sum() - target.sum().type(torch.FloatTensor).cuda())\n",
    "        mse += abs(output.data.sum() - target.sum().type(torch.FloatTensor).cuda())*abs(output.data.sum() - target.sum().type(torch.FloatTensor).cuda())\n",
    "\n",
    "\n",
    "    mae = mae / len(test_loader)\n",
    "    mse = math.sqrt(mse/len(test_loader))\n",
    "    print(' * MSE {mse:.3f} '.format(mse=mse))\n",
    "    print(' * MAE {mae:.3f} '\n",
    "          .format(mae=mae))\n",
    "\n",
    "    return mae\n",
    "\n",
    "def adjust_learning_rate(optimizer, epoch):\n",
    "    \"\"\"Sets the learning rate to the initial LR decayed by 10 every 30 epochs\"\"\"\n",
    "\n",
    "    args.lr = args.original_lr\n",
    "\n",
    "    for i in range(len(args.steps)):\n",
    "\n",
    "        scale = args.scales[i] if i < len(args.scales) else 1\n",
    "\n",
    "        if epoch >= args.steps[i]:\n",
    "            args.lr = args.lr * scale\n",
    "            if epoch == args.steps[i]:\n",
    "                break\n",
    "        else:\n",
    "            break\n",
    "    for param_group in optimizer.param_groups:\n",
    "        param_group['lr'] = args.lr\n",
    "\n",
    "class AverageMeter(object):\n",
    "    \"\"\"Computes and stores the average and current value\"\"\"\n",
    "\n",
    "    def __init__(self):\n",
    "        self.reset()\n",
    "\n",
    "    def reset(self):\n",
    "        self.val = 0\n",
    "        self.avg = 0\n",
    "        self.sum = 0\n",
    "        self.count = 0\n",
    "\n",
    "    def update(self, val, n=1):\n",
    "        self.val = val\n",
    "        self.sum += val * n\n",
    "        self.count += n\n",
    "        self.avg = self.sum / self.count\n",
    "        \n",
    "if __name__ == '__main__':\n",
    "\n",
    "    main()"
   ]
  },
  {
   "cell_type": "code",
   "execution_count": null,
   "metadata": {
    "executionInfo": {
     "elapsed": 21932724,
     "status": "ok",
     "timestamp": 1606963682084,
     "user": {
      "displayName": "omar elharrouss",
      "photoUrl": "https://lh3.googleusercontent.com/a-/AOh14GjeGC_l4X-u1jl7ka6nlFmF9bP8pq1h8yOVXg_Wvg=s64",
      "userId": "07323381654864768298"
     },
     "user_tz": -180
    },
    "id": "kLAzw3sKkVq_"
   },
   "outputs": [],
   "source": [
    "#test_image_list = create_training_image_list(TEST_DATA_PATH)\n"
   ]
  },
  {
   "cell_type": "code",
   "execution_count": null,
   "metadata": {
    "executionInfo": {
     "elapsed": 21932720,
     "status": "ok",
     "timestamp": 1606963682085,
     "user": {
      "displayName": "omar elharrouss",
      "photoUrl": "https://lh3.googleusercontent.com/a-/AOh14GjeGC_l4X-u1jl7ka6nlFmF9bP8pq1h8yOVXg_Wvg=s64",
      "userId": "07323381654864768298"
     },
     "user_tz": -180
    },
    "id": "nCfjnKsXX2El"
   },
   "outputs": [],
   "source": [
    "#train_list, val_list = get_train_val_list(DATA_PATH)\n",
    "#test_loader = torch.utils.data.DataLoader(\n",
    "#        ListDataset(val_list,\n",
    "#                            shuffle=False,\n",
    "#                            transform=transforms.Compose([\n",
    "#                                transforms.ToTensor(), transforms.Normalize(mean=[0.485, 0.456, 0.406],\n",
    "#                                                                            std=[0.229, 0.224, 0.225]),\n",
    "#                            ]), train=False),\n",
    "#        batch_size=args.batch_size)"
   ]
  },
  {
   "cell_type": "code",
   "execution_count": null,
   "metadata": {
    "colab": {
     "base_uri": "https://localhost:8080/"
    },
    "executionInfo": {
     "elapsed": 21932714,
     "status": "ok",
     "timestamp": 1606963682085,
     "user": {
      "displayName": "omar elharrouss",
      "photoUrl": "https://lh3.googleusercontent.com/a-/AOh14GjeGC_l4X-u1jl7ka6nlFmF9bP8pq1h8yOVXg_Wvg=s64",
      "userId": "07323381654864768298"
     },
     "user_tz": -180
    },
    "id": "ho-s1KYHYmpi",
    "outputId": "cba92919-35b8-4367-8f3d-14a2eb506b5f"
   },
   "outputs": [],
   "source": [
    "#print(test_loader)\n",
    "#for i, (img, target) in enumerate(test_loader):\n",
    "        #img = img.cuda()\n",
    "        #img = Variable(img)\n",
    "        #output = model(img)\n",
    "\n",
    "        #mae += abs(output.data.sum() - target.sum().type(torch.FloatTensor).cuda())\n",
    "train_list, val_list = get_train_val_list(DATA_PATH)\n",
    "print('kkkk',len(val_list))\n",
    "print('kkkk',os.path.splitext(os.path.basename(val_list[1]))[0])\n"
   ]
  },
  {
   "cell_type": "code",
   "execution_count": null,
   "metadata": {
    "colab": {
     "base_uri": "https://localhost:8080/"
    },
    "executionInfo": {
     "elapsed": 21932708,
     "status": "ok",
     "timestamp": 1606963682086,
     "user": {
      "displayName": "omar elharrouss",
      "photoUrl": "https://lh3.googleusercontent.com/a-/AOh14GjeGC_l4X-u1jl7ka6nlFmF9bP8pq1h8yOVXg_Wvg=s64",
      "userId": "07323381654864768298"
     },
     "user_tz": -180
    },
    "id": "xL2q9EL5Q5Q9",
    "outputId": "ad5a091c-d546-43cd-a005-2576e1d993d8"
   },
   "outputs": [],
   "source": [
    "import glob\n",
    "# importing libraries\n",
    "import h5py\n",
    "import scipy.io as io\n",
    "import PIL.Image as Image\n",
    "import numpy as np\n",
    "import os\n",
    "import glob\n",
    "from matplotlib import pyplot as plt\n",
    "from scipy.ndimage.filters import gaussian_filter\n",
    "import scipy\n",
    "import json\n",
    "from matplotlib import cm as CM\n",
    "import torch\n",
    "from tqdm import tqdm\n",
    "%matplotlib inline\n",
    "\n",
    "from torchvision import datasets, transforms\n",
    "transform=transforms.Compose([\n",
    "                       transforms.ToTensor(),transforms.Normalize(mean=[0.485, 0.456, 0.406],\n",
    "                                     std=[0.229, 0.224, 0.225]),\n",
    "                   ])\n",
    "model = DenseScaleNet()\n",
    "model = model.cuda()\n",
    "checkpoint = torch.load('./task_one_model_best.pth.tar')\n",
    "model.load_state_dict(checkpoint['state_dict'])\n",
    "#img_paths = []\n",
    "#for path in path_sets:\n",
    "#    print(path)\n",
    "#    for img_path in glob.glob(os.path.join(path, '*.jpg')):\n",
    "#        img_paths.append(img_path)\n",
    "#        print(img_path)"
   ]
  },
  {
   "cell_type": "code",
   "execution_count": null,
   "metadata": {
    "colab": {
     "base_uri": "https://localhost:8080/",
     "height": 1000,
     "output_embedded_package_id": "1e9ErwBEog5lRkuriIL1Nc5udLgcp0wYz"
    },
    "executionInfo": {
     "elapsed": 22140829,
     "status": "ok",
     "timestamp": 1606963890213,
     "user": {
      "displayName": "omar elharrouss",
      "photoUrl": "https://lh3.googleusercontent.com/a-/AOh14GjeGC_l4X-u1jl7ka6nlFmF9bP8pq1h8yOVXg_Wvg=s64",
      "userId": "07323381654864768298"
     },
     "user_tz": -180
    },
    "id": "bGGCCIXMQ-Ja",
    "outputId": "983f9c3f-bc5f-4301-ceec-eead8c2f94a3"
   },
   "outputs": [],
   "source": [
    "\n",
    "\n",
    "from matplotlib import cm as c\n",
    "for i in range(len(val_list)):\n",
    "    print('frame:',i)\n",
    "    #print('kkkk',os.path.splitext(os.path.basename(val_list[i]))[0])\n",
    "    ll=os.path.splitext(os.path.basename(val_list[i]))[0]\n",
    "    img = transform(Image.open(val_list[i]).convert('RGB')).cuda()\n",
    "    output = model(img.unsqueeze(0))\n",
    "    #print(\"Predicted Count : \",int(output.detach().cpu().sum().numpy()))\n",
    "    temp = np.asarray(output.detach().cpu().reshape(output.detach().cpu().shape[2],output.detach().cpu().shape[3]))\n",
    "    fig = plt.figure()\n",
    "    ax = fig.add_subplot(111)\n",
    "    ax.set_title(int(output.detach().cpu().sum().numpy()))\n",
    "    plt.imshow(temp,cmap = c.jet)\n",
    "    plt.savefig('./data_results/DenseScaleNet_50_QNRF_'+ ll + '.png')\n",
    "    plt.show()\n",
    "    temp = h5py.File('QNRF/ground-truth/' + ll + '.h5', 'r')\n",
    "    temp_1 = np.asarray(temp['density'])\n",
    "    fig = plt.figure()\n",
    "    ax = fig.add_subplot(111)\n",
    "    ax.set_title(int(np.sum(temp_1)) + 1)\n",
    "    plt.imshow(temp_1,cmap = c.jet)\n",
    "    plt.savefig('./data_results/'+ ll + '_GT.png')\n",
    "    #print(\"Original Count : \",int(np.sum(temp_1)) + 1)"
   ]
  },
  {
   "cell_type": "code",
   "execution_count": null,
   "metadata": {
    "colab": {
     "base_uri": "https://localhost:8080/",
     "height": 17
    },
    "executionInfo": {
     "elapsed": 22140826,
     "status": "ok",
     "timestamp": 1606963890215,
     "user": {
      "displayName": "omar elharrouss",
      "photoUrl": "https://lh3.googleusercontent.com/a-/AOh14GjeGC_l4X-u1jl7ka6nlFmF9bP8pq1h8yOVXg_Wvg=s64",
      "userId": "07323381654864768298"
     },
     "user_tz": -180
    },
    "id": "X0CU29NulxiA",
    "outputId": "8862ba82-0d53-4e73-eda7-72214b9b5abc"
   },
   "outputs": [],
   "source": [
    "#from google.colab import files\n",
    "#!ls\n",
    "\n",
    "from google.colab import files\n",
    "files.download('./task_one_model_best.pth.tar')\n",
    "files.download('./task_one_checkpoint.pth.tar')\n",
    "#torch.save('task_one_model_best.pth.tar', output_image_path)"
   ]
  },
  {
   "cell_type": "code",
   "execution_count": null,
   "metadata": {
    "colab": {
     "base_uri": "https://localhost:8080/"
    },
    "executionInfo": {
     "elapsed": 22140820,
     "status": "ok",
     "timestamp": 1606963890216,
     "user": {
      "displayName": "omar elharrouss",
      "photoUrl": "https://lh3.googleusercontent.com/a-/AOh14GjeGC_l4X-u1jl7ka6nlFmF9bP8pq1h8yOVXg_Wvg=s64",
      "userId": "07323381654864768298"
     },
     "user_tz": -180
    },
    "id": "hw84AGxJ6kLj",
    "outputId": "7e0430d1-92ee-4131-8979-8f73973af771"
   },
   "outputs": [],
   "source": [
    "from google.colab import files\n",
    "!ls\n",
    "#!rm -rf Finale"
   ]
  }
 ],
 "metadata": {
  "accelerator": "GPU",
  "colab": {
   "collapsed_sections": [],
   "machine_shape": "hm",
   "name": "efficientNet_DeepCrack.ipynb",
   "provenance": [
    {
     "file_id": "16av7ZtFcRVeu2R9S_l-FVDXpPAqas9qM",
     "timestamp": 1606902316961
    },
    {
     "file_id": "1NbVrX37yQiJJ1ZbprrvC09MjM2AtoWNe",
     "timestamp": 1606051526883
    },
    {
     "file_id": "1mg9UrS_hIbsar-f4Gizk4TQ5dHt5x4XB",
     "timestamp": 1605775976961
    },
    {
     "file_id": "1jJ8UeXHawA8wFNlrfv6ievJi1LIrTywM",
     "timestamp": 1605167412038
    },
    {
     "file_id": "1T05TYyctZB7jwfwIh4ypKqIOBmdpYNck",
     "timestamp": 1605167060038
    },
    {
     "file_id": "1fuS1h8vbqEYZ-7eCI6wEySQ-2GHWEWLr",
     "timestamp": 1604928085033
    },
    {
     "file_id": "1jTiQnwj05YcA-b0bNXp23NHvqv91IAd3",
     "timestamp": 1602536927964
    },
    {
     "file_id": "1hKwlMkckXpuHhLvsEEX82X6w1uzDBzWN",
     "timestamp": 1602466907192
    },
    {
     "file_id": "154VsBDEpC9311NmccxvCszHDwj6ceJfz",
     "timestamp": 1602424351401
    },
    {
     "file_id": "1qzmxBkZ8uT3rB9vhLPOJ26EJBliUmqr2",
     "timestamp": 1602297748808
    },
    {
     "file_id": "1EEzs-gCWBAnzg18a_BqUzLrsNlIIAELk",
     "timestamp": 1602195219010
    },
    {
     "file_id": "1AE1zzH-UEXkzygVcOtFEIgtr0t9h0Pqj",
     "timestamp": 1602193628683
    },
    {
     "file_id": "1FicNiiZMjq_5cNh8_NzJGhS9FZy4RZdk",
     "timestamp": 1602141079572
    },
    {
     "file_id": "1QH27VxgSH-pRu9U04ja9uNB5JApEtYkS",
     "timestamp": 1602094710082
    },
    {
     "file_id": "1KjmrkHEX4dV6oe6LiN1gjdWW9EH1p1gd",
     "timestamp": 1602091014086
    },
    {
     "file_id": "1qMSJaQ-XfHVaiCsO1MzKaM5Kl2HvaZ8N",
     "timestamp": 1601934945960
    },
    {
     "file_id": "1fUYEsLPfBXmgQ7qLPkD7EJAQrD6Gqo9y",
     "timestamp": 1599441317675
    },
    {
     "file_id": "1pVc6eebycqDTGrKx8HJ0_-B9eleEpw-m",
     "timestamp": 1598050945970
    },
    {
     "file_id": "1s4JGfcyi5eGenJ-F6dWWVBnwbxSfJN7w",
     "timestamp": 1598041081334
    },
    {
     "file_id": "1HwqEgCEN_3R5Oz2O9b2PVWFhxAZk_r9V",
     "timestamp": 1597907728720
    },
    {
     "file_id": "12vU-c_ylj7TGKPcKLvGfvzXvumJsFbE1",
     "timestamp": 1593547658443
    },
    {
     "file_id": "1RML6_NrScU6kToBp0PXBxnq0VVQM6EZk",
     "timestamp": 1593037402983
    },
    {
     "file_id": "1DBHeyiUkLWx7Z3v0IqUm66OYI1-5scpC",
     "timestamp": 1592901670352
    },
    {
     "file_id": "1Apn_K4xy2GD1dhj-dXZXvi2JyIP3wZs5",
     "timestamp": 1592883244181
    },
    {
     "file_id": "11J0BP6gh3z0Tm8goj-nqO_kpwS6vDJxy",
     "timestamp": 1592871323270
    },
    {
     "file_id": "1YkjWuzbj9f_Fib8QxAQ13VPaERIqZTR0",
     "timestamp": 1592728935157
    },
    {
     "file_id": "1fC6sSVameLJqz30S2pks_565pdGXjurs",
     "timestamp": 1592627209425
    },
    {
     "file_id": "1Su3hgh6k005ooGJFGZlVkXib8Hwsvgc2",
     "timestamp": 1592507243771
    }
   ]
  },
  "kernelspec": {
   "display_name": "Python 3",
   "language": "python",
   "name": "python3"
  },
  "language_info": {
   "codemirror_mode": {
    "name": "ipython",
    "version": 3
   },
   "file_extension": ".py",
   "mimetype": "text/x-python",
   "name": "python",
   "nbconvert_exporter": "python",
   "pygments_lexer": "ipython3",
   "version": "3.8.3"
  }
 },
 "nbformat": 4,
 "nbformat_minor": 1
}
